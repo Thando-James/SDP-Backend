{
 "cells": [
  {
   "cell_type": "code",
   "execution_count": 5,
   "metadata": {},
   "outputs": [
    {
     "name": "stdout",
     "output_type": "stream",
     "text": [
      "The revenge\n",
      "[['1365125', '1335952', '1373679'], ['797880', '1365125', '1335952', '1490000', '1373679'], ['797880', '1365125', '1335952', '1490000', '1373679'], ['797880', '1365125', '1335952', '1490000', '1373679'], ['797880', '1365125', '1373679'], ['797880', '1365125', '1335952'], ['797880', '1335952', '1345962', '1475896', '1475896'], ['1490000', '1373679', '1345962', '889442', '1395256', '1475896', '1475896'], ['1490000', '1373679'], ['1345962', '1395256', '1475896', '1475896'], ['1345962', '889442', '1395256', '1395256'], ['1345962', '889442', '1475896'], ['889442', '1395256', '1475896', '1475896'], ['889442', '1395256', '1475896', '1475896'], ['889442', '1395256']]\n",
      "The kingdom\n",
      "8\n",
      "[['PHYS1000', 'INFO1004', 'THEO1006'], ['COMS1017', 'PSYC1015'], ['COMS1018', 'PSYC1018'], ['COMS1015', 'PSYC1017'], ['MATH1014', 'ACCN1036'], ['MATH1036', 'ACCN1014'], ['APPM1006'], ['ECON1000']]\n"
     ]
    }
   ],
   "source": [
    "import unittest\n",
    "import GraphColouring\n",
    "from GraphColouring import GraphColouring as gc"
   ]
  },
  {
   "cell_type": "code",
   "execution_count": 6,
   "metadata": {},
   "outputs": [
    {
     "name": "stderr",
     "output_type": "stream",
     "text": [
      "..."
     ]
    },
    {
     "name": "stdout",
     "output_type": "stream",
     "text": [
      "[['1365125', '1335952', '1373679'], ['797880', '1365125', '1335952', '1490000', '1373679'], ['797880', '1365125', '1335952', '1490000', '1373679'], ['797880', '1365125', '1335952', '1490000', '1373679'], ['797880', '1365125', '1373679'], ['797880', '1365125', '1335952'], ['797880', '1335952', '1345962', '1475896', '1475896'], ['1490000', '1373679', '1345962', '889442', '1395256', '1475896', '1475896'], ['1490000', '1373679'], ['1345962', '1395256', '1475896', '1475896'], ['1345962', '889442', '1395256', '1395256'], ['1345962', '889442', '1475896'], ['889442', '1395256', '1475896', '1475896'], ['889442', '1395256', '1475896', '1475896'], ['889442', '1395256']]\n",
      "The kingdom\n",
      "The revenge\n"
     ]
    },
    {
     "name": "stderr",
     "output_type": "stream",
     "text": [
      "\n",
      "----------------------------------------------------------------------\n",
      "Ran 3 tests in 0.002s\n",
      "\n",
      "OK\n"
     ]
    }
   ],
   "source": [
    "class TestColouring(unittest.TestCase):\n",
    "    \n",
    "    def test_read(self):\n",
    "   \n",
    "        coursesArray=[[['COMS1017/1'], ['COMS1017/2']], [['COMS1018/1']], [['COMS1015/1']], [['MATH1014/1']], [['MATH1036/1']], [['PHYS1000/1'], ['PHYS1000/2']], [['APPM1006/1']], [['ECON1000A/1', 'ECON1000/1'], ['ECON1000A/2', 'ECON1000/2']], [['INFO1004/1'], ['INFO1004/2']], [['PSYC1015/1']], [['PSYC1018/1']], [['PSYC1017/1', 'PSYC1017A/1']], [['ACCN1036/1']], [['ACCN1014/1']], [['THEO1006/1']]]\n",
    "        studentsArray=[[['797880', 'REGISTERED', '2018', 'CB001', 'COMS1018']], [['797880', 'REGISTERED', '2018', 'CB001', 'COMS1015']], [['797880', 'REGISTERED', '2018', 'CB001', 'MATH1014']], [['797880', 'REGISTERED', '2018', 'CB001', 'MATH1036']], [['797880', 'REGISTERED', '2018', 'CB001', 'PHYS1000']], [['797880', 'REGISTERED', '2018', 'CB001', 'APPM1006']], [['1365125', 'REGISTERED', '2018', 'CB001', 'COMS1018']], [['1365125', 'REGISTERED', '2018', 'CB001', 'COMS1015']], [['1365125', 'REGISTERED', '2018', 'CB001', 'MATH1014']], [['1365125', 'REGISTERED', '2018', 'CB001', 'MATH1036']], [['1365125', 'REGISTERED', '2018', 'CB001', 'COMS1017']], [['1365125', 'REGISTERED', '2018', 'CB001', 'PHYS1000']], [['1335952', 'REGISTERED', '2018', 'CB001', 'COMS1018']], [['1335952', 'REGISTERED', '2018', 'CB001', 'COMS1015']], [['1335952', 'REGISTERED', '2018', 'CB001', 'MATH1014']], [['1335952', 'REGISTERED', '2018', 'CB001', 'COMS1017']], [['1335952', 'REGISTERED', '2018', 'CB001', 'PHYS1000']], [['1335952', 'REGISTERED', '2018', 'CB001', 'APPM1006']], [['1490000', 'REGISTERED', '2018', 'CB001', 'COMS1018']], [['1490000', 'REGISTERED', '2018', 'CB001', 'COMS1015']], [['1490000', 'REGISTERED', '2018', 'CB001', 'MATH1014']], [['1490000', 'REGISTERED', '2018', 'CB001', 'ECON1000A']], [['1490000', 'REGISTERED', '2018', 'CB001', 'INFO1004']], [['1373679', 'REGISTERED', '2018', 'CB001', 'COMS1018']], [['1373679', 'REGISTERED', '2018', 'CB001', 'COMS1015']], [['1373679', 'REGISTERED', '2018', 'CB001', 'MATH1014']], [['1373679', 'REGISTERED', '2018', 'CB001', 'MATH1036']], [['1373679', 'REGISTERED', '2018', 'CB001', 'COMS1017']], [['1373679', 'REGISTERED', '2018', 'CB001', 'ECON1000']], [['1373679', 'REGISTERED', '2018', 'CB001', 'INFO1004']], [['1345962', 'REGISTERED', '2018', 'CB001', 'PSYC1018']], [['1345962', 'REGISTERED', '2018', 'CB001', 'PSYC1015']], [['1345962', 'REGISTERED', '2018', 'CB001', 'PSYC1017']], [['1345962', 'REGISTERED', '2018', 'CB001', 'ECON1000']], [['1345962', 'REGISTERED', '2018', 'CB001', 'APPM1006']], [['889442', 'REGISTERED', '2018', 'CB001', 'PSYC1018']], [['889442', 'REGISTERED', '2018', 'CB001', 'ACCN1014']], [['889442', 'REGISTERED', '2018', 'CB001', 'ACCN1036']], [['889442', 'REGISTERED', '2018', 'CB001', 'PSYC1017']], [['889442', 'REGISTERED', '2018', 'CB001', 'ECON1000']], [['889442', 'REGISTERED', '2018', 'CB001', 'THEO1006']], [['1395256', 'REGISTERED', '2018', 'CB001', 'PSYC1018']], [['1395256', 'REGISTERED', '2018', 'CB001', 'PSYC1015']], [['1395256', 'REGISTERED', '2018', 'CB001', 'ACCN1014']], [['1395256', 'REGISTERED', '2018', 'CB001', 'ACCN1036']], [['1395256', 'REGISTERED', '2018', 'CB001', 'PSYC1017A']], [['1395256', 'REGISTERED', '2018', 'CB001', 'ECON1000']], [['1395256', 'REGISTERED', '2018', 'CB001', 'THEO1006']], [['1395256', 'REGISTERED', '2018', 'CB001', 'PSYC1018']], [['1475896', 'REGISTERED', '2018', 'CB001', 'PSYC1015']], [['1475896', 'REGISTERED', '2018', 'CB001', 'ACCN1014']], [['1475896', 'REGISTERED', '2018', 'CB001', 'ACCN1036']], [['1475896', 'REGISTERED', '2018', 'CB001', 'PSYC1017']], [['1475896', 'REGISTERED', '2018', 'CB001', 'ECON1000']], [['1475896', 'REGISTERED', '2018', 'CB001', 'APPM1006']], [['1475896', 'REGISTERED', '2018', 'CB001', 'PSYC1015']], [['1475896', 'REGISTERED', '2018', 'CB001', 'ACCN1014']], [['1475896', 'REGISTERED', '2018', 'CB001', 'ACCN1036']], [['1475896', 'REGISTERED', '2018', 'CB001', 'ECON1000']], [['1475896', 'REGISTERED', '2018', 'CB001', 'APPM1006']]]\n",
    "        \n",
    "        result=GraphColouring.Extractor.Read(self,'myCourses.csv','myStudents.csv')\n",
    "        #if read worked correctly then result[0] and result[1] have none-zero length\n",
    "        self.assertNotEqual(len(result[0]),0)\n",
    "        self.assertNotEqual(len(result[1]),0)\n",
    "        self.assertEqual(result[0],coursesArray)\n",
    "        self.assertEqual(result[1],studentsArray)\n",
    "     \n",
    "    def test_courseStudents(self):\n",
    "        \n",
    "        coursesArray=[[['COMS1017/1'], ['COMS1017/2']], [['COMS1018/1']], [['COMS1015/1']], [['MATH1014/1']], [['MATH1036/1']], [['PHYS1000/1'], ['PHYS1000/2']], [['APPM1006/1']], [['ECON1000A/1', 'ECON1000/1'], ['ECON1000A/2', 'ECON1000/2']], [['INFO1004/1'], ['INFO1004/2']], [['PSYC1015/1']], [['PSYC1018/1']], [['PSYC1017/1', 'PSYC1017A/1']], [['ACCN1036/1']], [['ACCN1014/1']], [['THEO1006/1']]]\n",
    "        studentsArray=[[['797880', 'REGISTERED', '2018', 'CB001', 'COMS1018']], [['797880', 'REGISTERED', '2018', 'CB001', 'COMS1015']], [['797880', 'REGISTERED', '2018', 'CB001', 'MATH1014']], [['797880', 'REGISTERED', '2018', 'CB001', 'MATH1036']], [['797880', 'REGISTERED', '2018', 'CB001', 'PHYS1000']], [['797880', 'REGISTERED', '2018', 'CB001', 'APPM1006']], [['1365125', 'REGISTERED', '2018', 'CB001', 'COMS1018']], [['1365125', 'REGISTERED', '2018', 'CB001', 'COMS1015']], [['1365125', 'REGISTERED', '2018', 'CB001', 'MATH1014']], [['1365125', 'REGISTERED', '2018', 'CB001', 'MATH1036']], [['1365125', 'REGISTERED', '2018', 'CB001', 'COMS1017']], [['1365125', 'REGISTERED', '2018', 'CB001', 'PHYS1000']], [['1335952', 'REGISTERED', '2018', 'CB001', 'COMS1018']], [['1335952', 'REGISTERED', '2018', 'CB001', 'COMS1015']], [['1335952', 'REGISTERED', '2018', 'CB001', 'MATH1014']], [['1335952', 'REGISTERED', '2018', 'CB001', 'COMS1017']], [['1335952', 'REGISTERED', '2018', 'CB001', 'PHYS1000']], [['1335952', 'REGISTERED', '2018', 'CB001', 'APPM1006']], [['1490000', 'REGISTERED', '2018', 'CB001', 'COMS1018']], [['1490000', 'REGISTERED', '2018', 'CB001', 'COMS1015']], [['1490000', 'REGISTERED', '2018', 'CB001', 'MATH1014']], [['1490000', 'REGISTERED', '2018', 'CB001', 'ECON1000A']], [['1490000', 'REGISTERED', '2018', 'CB001', 'INFO1004']], [['1373679', 'REGISTERED', '2018', 'CB001', 'COMS1018']], [['1373679', 'REGISTERED', '2018', 'CB001', 'COMS1015']], [['1373679', 'REGISTERED', '2018', 'CB001', 'MATH1014']], [['1373679', 'REGISTERED', '2018', 'CB001', 'MATH1036']], [['1373679', 'REGISTERED', '2018', 'CB001', 'COMS1017']], [['1373679', 'REGISTERED', '2018', 'CB001', 'ECON1000']], [['1373679', 'REGISTERED', '2018', 'CB001', 'INFO1004']], [['1345962', 'REGISTERED', '2018', 'CB001', 'PSYC1018']], [['1345962', 'REGISTERED', '2018', 'CB001', 'PSYC1015']], [['1345962', 'REGISTERED', '2018', 'CB001', 'PSYC1017']], [['1345962', 'REGISTERED', '2018', 'CB001', 'ECON1000']], [['1345962', 'REGISTERED', '2018', 'CB001', 'APPM1006']], [['889442', 'REGISTERED', '2018', 'CB001', 'PSYC1018']], [['889442', 'REGISTERED', '2018', 'CB001', 'ACCN1014']], [['889442', 'REGISTERED', '2018', 'CB001', 'ACCN1036']], [['889442', 'REGISTERED', '2018', 'CB001', 'PSYC1017']], [['889442', 'REGISTERED', '2018', 'CB001', 'ECON1000']], [['889442', 'REGISTERED', '2018', 'CB001', 'THEO1006']], [['1395256', 'REGISTERED', '2018', 'CB001', 'PSYC1018']], [['1395256', 'REGISTERED', '2018', 'CB001', 'PSYC1015']], [['1395256', 'REGISTERED', '2018', 'CB001', 'ACCN1014']], [['1395256', 'REGISTERED', '2018', 'CB001', 'ACCN1036']], [['1395256', 'REGISTERED', '2018', 'CB001', 'PSYC1017A']], [['1395256', 'REGISTERED', '2018', 'CB001', 'ECON1000']], [['1395256', 'REGISTERED', '2018', 'CB001', 'THEO1006']], [['1395256', 'REGISTERED', '2018', 'CB001', 'PSYC1018']], [['1475896', 'REGISTERED', '2018', 'CB001', 'PSYC1015']], [['1475896', 'REGISTERED', '2018', 'CB001', 'ACCN1014']], [['1475896', 'REGISTERED', '2018', 'CB001', 'ACCN1036']], [['1475896', 'REGISTERED', '2018', 'CB001', 'PSYC1017']], [['1475896', 'REGISTERED', '2018', 'CB001', 'ECON1000']], [['1475896', 'REGISTERED', '2018', 'CB001', 'APPM1006']], [['1475896', 'REGISTERED', '2018', 'CB001', 'PSYC1015']], [['1475896', 'REGISTERED', '2018', 'CB001', 'ACCN1014']], [['1475896', 'REGISTERED', '2018', 'CB001', 'ACCN1036']], [['1475896', 'REGISTERED', '2018', 'CB001', 'ECON1000']], [['1475896', 'REGISTERED', '2018', 'CB001', 'APPM1006']]]\n",
    "        \n",
    "        courseStudents=[['1365125', '1335952', '1373679'], ['797880', '1365125', '1335952', '1490000', '1373679'], ['797880', '1365125', '1335952', '1490000', '1373679'], ['797880', '1365125', '1335952', '1490000', '1373679'], ['797880', '1365125', '1373679'], ['797880', '1365125', '1335952'], ['797880', '1335952', '1345962', '1475896', '1475896'], ['1490000', '1373679', '1345962', '889442', '1395256', '1475896', '1475896'], ['1490000', '1373679'], ['1345962', '1395256', '1475896', '1475896'], ['1345962', '889442', '1395256', '1395256'], ['1345962', '889442', '1475896'], ['889442', '1395256', '1475896', '1475896'], ['889442', '1395256', '1475896', '1475896'], ['889442', '1395256']]\n",
    "        result=GraphColouring.getCourseStudents(coursesArray,studentsArray)\n",
    "        self.assertEqual(result,courseStudents)\n",
    "        \n",
    "    def test_weight(self):\n",
    "        \n",
    "        courseStudents=[['1365125', '1335952', '1373679',], ['797880', '1365125', '1335952', '1490000', '1373679']]\n",
    "        result=gc.getWeight(self,courseStudents[0],courseStudents[1])\n",
    "        self.assertEqual(result,3)\n",
    "        \n",
    "if __name__ == '__main__':\n",
    "    unittest.main(argv=['first-arg-is-ignored'], exit=False)\n"
   ]
  },
  {
   "cell_type": "code",
   "execution_count": null,
   "metadata": {},
   "outputs": [],
   "source": []
  },
  {
   "cell_type": "code",
   "execution_count": null,
   "metadata": {},
   "outputs": [],
   "source": []
  },
  {
   "cell_type": "code",
   "execution_count": null,
   "metadata": {},
   "outputs": [],
   "source": []
  },
  {
   "cell_type": "code",
   "execution_count": null,
   "metadata": {},
   "outputs": [],
   "source": []
  }
 ],
 "metadata": {
  "kernelspec": {
   "display_name": "Python 3",
   "language": "python",
   "name": "python3"
  },
  "language_info": {
   "codemirror_mode": {
    "name": "ipython",
    "version": 3
   },
   "file_extension": ".py",
   "mimetype": "text/x-python",
   "name": "python",
   "nbconvert_exporter": "python",
   "pygments_lexer": "ipython3",
   "version": "3.6.4"
  }
 },
 "nbformat": 4,
 "nbformat_minor": 2
}
